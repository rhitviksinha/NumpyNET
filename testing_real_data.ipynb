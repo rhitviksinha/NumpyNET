{
 "cells": [
  {
   "cell_type": "code",
   "execution_count": 1,
   "metadata": {},
   "outputs": [],
   "source": [
    "import numpy as np\n",
    "from numpy.random import seed\n",
    "seed(13)\n",
    "\n",
    "from numpyNET.nn import Model\n",
    "from numpyNET.layers import Dense, Sigmoid\n",
    "from numpyNET.optimizer import SGD\n",
    "from numpyNET.error import Error, MAE\n",
    "from numpyNET.data_loader import BatchIterator\n",
    "from numpyNET.train import train, predict"
   ]
  },
  {
   "cell_type": "markdown",
   "metadata": {},
   "source": [
    "# Bank Note Authentication Dataset\n",
    "\n",
    "Get the dataset [here](https://archive.ics.uci.edu/ml/machine-learning-databases/00267/data_banknote_authentication.txt).\n",
    "\n",
    "### Data Set Information:\n",
    "\n",
    "Data were extracted from images that were taken from genuine and forged banknote-like specimens. For digitization, an industrial camera usually used for print inspection was used. The final images have 400x 400 pixels. Due to the object lens and distance to the investigated object gray-scale pictures with a resolution of about 660 dpi were gained. Wavelet Transform tool were used to extract features from images.\n",
    "\n",
    "\n",
    "### Attribute Information:\n",
    "\n",
    "1. variance of Wavelet Transformed image (continuous)\n",
    "2. skewness of Wavelet Transformed image (continuous)\n",
    "3. curtosis of Wavelet Transformed image (continuous)\n",
    "4. entropy of image (continuous)\n",
    "5. class (integer)"
   ]
  },
  {
   "cell_type": "markdown",
   "metadata": {},
   "source": [
    "### Prepare Training and Test Sets"
   ]
  },
  {
   "cell_type": "code",
   "execution_count": 2,
   "metadata": {},
   "outputs": [],
   "source": [
    "TXT_FILE = \"./dataset/data_banknote_authentication.txt\""
   ]
  },
  {
   "cell_type": "code",
   "execution_count": 3,
   "metadata": {},
   "outputs": [],
   "source": [
    "def extract_data_from_txt(txt):\n",
    "    f = open(txt, \"r\")\n",
    "    dataset = []\n",
    "    for x in f:\n",
    "        x = x.split(\",\")\n",
    "        x[-1] = x[-1].split(\"\\n\")[0]\n",
    "        for i in range(len(x)):\n",
    "            x[i] = float(x[i])\n",
    "        dataset.append(np.array(x))\n",
    "    return np.array(dataset)"
   ]
  },
  {
   "cell_type": "code",
   "execution_count": 4,
   "metadata": {},
   "outputs": [
    {
     "name": "stdout",
     "output_type": "stream",
     "text": [
      "[[ 3.6216   8.6661  -2.8073  -0.44699  0.     ]\n",
      " [ 4.5459   8.1674  -2.4586  -1.4621   0.     ]\n",
      " [ 3.866   -2.6383   1.9242   0.10645  0.     ]\n",
      " [ 3.4566   9.5228  -4.0112  -3.5944   0.     ]\n",
      " [ 0.32924 -4.4552   4.5718  -0.9888   0.     ]]\n",
      "[[  0.40614   1.3492   -1.4501   -0.55949   1.     ]\n",
      " [ -1.3887   -4.8773    6.4774    0.34179   1.     ]\n",
      " [ -3.7503  -13.4586   17.5932   -2.7771    1.     ]\n",
      " [ -3.5637   -8.3827   12.393    -1.2823    1.     ]\n",
      " [ -2.5419   -0.65804   2.6842    1.1952    1.     ]]\n",
      "\n",
      "Total number of observations: 1372\n",
      "       Positive observations:  610\n",
      "       Negative observations:  762\n"
     ]
    }
   ],
   "source": [
    "dataset = extract_data_from_txt(TXT_FILE)\n",
    "print(dataset[:5])\n",
    "print(dataset[-5:])\n",
    "\n",
    "features = dataset[:, :4]\n",
    "labels = dataset[:, 4:5]\n",
    "print(f\"\\nTotal number of observations: {labels.shape[0]}\\n       Positive observations:  {int(np.sum(labels))}\\n       Negative observations:  {labels.shape[0]-int(np.sum(labels))}\")"
   ]
  },
  {
   "cell_type": "code",
   "execution_count": 5,
   "metadata": {
    "scrolled": true
   },
   "outputs": [
    {
     "name": "stdout",
     "output_type": "stream",
     "text": [
      "(1043, 4)\n",
      "(329, 4)\n",
      "(1043, 1)\n",
      "(329, 1)\n"
     ]
    }
   ],
   "source": [
    "train_features = []\n",
    "test_features = []\n",
    "\n",
    "train_labels = []\n",
    "test_labels = []\n",
    "\n",
    "for i in range(labels.shape[0]):\n",
    "    if np.random.rand() < 0.75 :\n",
    "        train_features.append(features[i,:])\n",
    "        train_labels.append(labels[i])\n",
    "    else:\n",
    "        test_features.append(features[i,:])\n",
    "        test_labels.append(labels[i])\n",
    "\n",
    "train_features = np.array(train_features)\n",
    "test_features = np.array(test_features)\n",
    "\n",
    "train_labels = np.array(train_labels)\n",
    "test_labels = np.array(test_labels)\n",
    "\n",
    "print(train_features.shape)\n",
    "print(test_features.shape)\n",
    "print(train_labels.shape)\n",
    "print(test_labels.shape)"
   ]
  },
  {
   "cell_type": "markdown",
   "metadata": {},
   "source": [
    "### Design and Train a Model"
   ]
  },
  {
   "cell_type": "code",
   "execution_count": 6,
   "metadata": {},
   "outputs": [
    {
     "name": "stdout",
     "output_type": "stream",
     "text": [
      "0 4.603727063510926\n",
      "5 4.433619642758644\n",
      "10 0.39283073629797377\n",
      "15 0.34607262202603606\n",
      "20 0.11997009817495874\n",
      "25 0.11945232297442028\n",
      "30 0.0994591082477828\n",
      "35 0.08882351424076351\n",
      "40 0.06016774653983711\n",
      "45 0.06133479059395108\n"
     ]
    },
    {
     "data": {
      "image/png": "[encoded data removed]",
      "text/plain": [
       "<Figure size 768x768 with 1 Axes>"
      ]
     },
     "metadata": {},
     "output_type": "display_data"
    }
   ],
   "source": [
    "# Designing a Model\n",
    "model = Model([\n",
    "    Dense(input_size=4, output_size=2),\n",
    "    Sigmoid(),\n",
    "    Dense(input_size=2, output_size=1),\n",
    "    Sigmoid()\n",
    "])\n",
    "\n",
    "# Model Hyperparameters\n",
    "num_epochs = 50\n",
    "optim = SGD(learn_rate=0.1)\n",
    "batch_size = 128\n",
    "err = MAE()\n",
    "\n",
    "# Training\n",
    "history = train(\n",
    "    model, train_features, train_labels, plotting=True,\n",
    "    epochs=num_epochs, optimizer=optim, err=err,\n",
    "    iterator=BatchIterator(batch_size=batch_size)\n",
    ")\n",
    "\n",
    "def confidence(X, Y, network):\n",
    "    prediction = predict(network, X)\n",
    "    return (1.0 - (np.sum(np.abs(prediction - Y)) / prediction.shape[0]))\n",
    "\n",
    "def print_missclassified(X, Y, network):\n",
    "    count = 0\n",
    "    prediction = predict(network, X)\n",
    "    for x, pred, y in zip(X, prediction, Y):\n",
    "        if np.round_(pred-y) != 0:\n",
    "            print(f\"Data point {x} missclassifed with confidence {pred}. Should be {y}\")\n",
    "            count += 1\n",
    "    print(f\"{count} data points missclassified\")"
   ]
  },
  {
   "cell_type": "markdown",
   "metadata": {},
   "source": [
    "### Calculate training confidence"
   ]
  },
  {
   "cell_type": "code",
   "execution_count": 7,
   "metadata": {},
   "outputs": [
    {
     "name": "stdout",
     "output_type": "stream",
     "text": [
      "99.35827362749264\n"
     ]
    }
   ],
   "source": [
    "print(100*confidence(train_features, train_labels, model))"
   ]
  },
  {
   "cell_type": "code",
   "execution_count": 8,
   "metadata": {},
   "outputs": [
    {
     "name": "stdout",
     "output_type": "stream",
     "text": [
      "Data point [ 0.3292 -4.4552  4.5718 -0.9888] missclassifed with confidence [0.9994015]. Should be [0.]\n",
      "Data point [ 0.5195 -3.2633  3.0895 -0.9849] missclassifed with confidence [0.99969052]. Should be [0.]\n",
      "Data point [ 0.3292 -4.4552  4.5718 -0.9888] missclassifed with confidence [0.9994015]. Should be [0.]\n",
      "Data point [ 0.5195 -3.2633  3.0895 -0.9849] missclassifed with confidence [0.99969052]. Should be [0.]\n",
      "Data point [ 0.3292 -4.4552  4.5718 -0.9888] missclassifed with confidence [0.9994015]. Should be [0.]\n",
      "Data point [ 0.5195 -3.2633  3.0895 -0.9849] missclassifed with confidence [0.99969052]. Should be [0.]\n",
      "6 data points missclassified\n"
     ]
    }
   ],
   "source": [
    "print_missclassified(train_features, train_labels, model)"
   ]
  },
  {
   "cell_type": "markdown",
   "metadata": {},
   "source": [
    "### Calculate testing confidence"
   ]
  },
  {
   "cell_type": "code",
   "execution_count": 9,
   "metadata": {},
   "outputs": [
    {
     "name": "stdout",
     "output_type": "stream",
     "text": [
      "98.7268761550525\n"
     ]
    }
   ],
   "source": [
    "print(100*confidence(test_features, test_labels, model))"
   ]
  },
  {
   "cell_type": "code",
   "execution_count": 10,
   "metadata": {},
   "outputs": [
    {
     "name": "stdout",
     "output_type": "stream",
     "text": [
      "Data point [ 0.32924 -4.4552   4.5718  -0.9888 ] missclassifed with confidence [0.99940137]. Should be [0.]\n",
      "Data point [ 0.3292 -4.4552  4.5718 -0.9888] missclassifed with confidence [0.9994015]. Should be [0.]\n",
      "Data point [ 0.5195 -3.2633  3.0895 -0.9849] missclassifed with confidence [0.99969052]. Should be [0.]\n",
      "Data point [ 0.51947 -3.2633   3.0895  -0.98492] missclassifed with confidence [0.99969056]. Should be [0.]\n",
      "4 data points missclassified\n"
     ]
    }
   ],
   "source": [
    "print_missclassified(test_features, test_labels, model)"
   ]
  }
 ],
 "metadata": {
  "kernelspec": {
   "display_name": "Python 3.8.2 64-bit",
   "language": "python",
   "name": "python38264biteb7a6b08da034a819a45b7c87adcc8ff"
  },
  "language_info": {
   "codemirror_mode": {
    "name": "ipython",
    "version": 3
   },
   "file_extension": ".py",
   "mimetype": "text/x-python",
   "name": "python",
   "nbconvert_exporter": "python",
   "pygments_lexer": "ipython3",
   "version": "3.8.2"
  },
  "toc": {
   "base_numbering": 1,
   "nav_menu": {},
   "number_sections": false,
   "sideBar": false,
   "skip_h1_title": true,
   "title_cell": "Table of Contents",
   "title_sidebar": "Contents",
   "toc_cell": false,
   "toc_position": {
    "height": "46.8889px",
    "left": "1545.67px",
    "top": "90px",
    "width": "161px"
   },
   "toc_section_display": false,
   "toc_window_display": false
  },
  "varInspector": {
   "cols": {
    "lenName": 16,
    "lenType": 16,
    "lenVar": "100"
   },
   "kernels_config": {
    "python": {
     "delete_cmd_postfix": "",
     "delete_cmd_prefix": "del ",
     "library": "var_list.py",
     "varRefreshCmd": "print(var_dic_list())"
    },
    "r": {
     "delete_cmd_postfix": ") ",
     "delete_cmd_prefix": "rm(",
     "library": "var_list.r",
     "varRefreshCmd": "cat(var_dic_list()) "
    }
   },
   "types_to_exclude": [
    "module",
    "function",
    "builtin_function_or_method",
    "instance",
    "_Feature"
   ],
   "window_display": false
  }
 },
 "nbformat": 4,
 "nbformat_minor": 4
}
